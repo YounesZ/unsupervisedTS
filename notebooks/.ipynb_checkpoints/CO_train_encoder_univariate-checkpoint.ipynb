{
 "cells": [
  {
   "cell_type": "markdown",
   "id": "4cf5a898",
   "metadata": {
    "id": "4cf5a898"
   },
   "source": [
    "# 1) Set up"
   ]
  },
  {
   "cell_type": "code",
   "execution_count": 6,
   "id": "ndp9FcHKpO-X",
   "metadata": {
    "colab": {
     "base_uri": "https://localhost:8080/"
    },
    "id": "ndp9FcHKpO-X",
    "outputId": "f724ee7a-ccd1-4e7c-ea6e-79faf3ad310a"
   },
   "outputs": [
    {
     "name": "stdout",
     "output_type": "stream",
     "text": [
      "Drive already mounted at /content/drive; to attempt to forcibly remount, call drive.mount(\"/content/drive\", force_remount=True).\n"
     ]
    }
   ],
   "source": [
    "from google.colab import drive\n",
    "drive.mount('/content/drive')"
   ]
  },
  {
   "cell_type": "code",
   "execution_count": 1,
   "id": "k1udLxbqpng0",
   "metadata": {
    "id": "k1udLxbqpng0"
   },
   "outputs": [],
   "source": [
    "# rewind back to root\n",
    "from os import path, chdir, listdir, getcwd\n",
    "root_assets = 'content/drive/MyDrive/JACOBB'"
   ]
  },
  {
   "cell_type": "code",
   "execution_count": 3,
   "id": "e96aaeba",
   "metadata": {
    "id": "e96aaeba"
   },
   "outputs": [],
   "source": [
    "# rewind back to root\n",
    "from os import path, chdir, listdir\n",
    "chdir('..')"
   ]
  },
  {
   "cell_type": "code",
   "execution_count": 4,
   "id": "a5ac4b21",
   "metadata": {
    "colab": {
     "base_uri": "https://localhost:8080/",
     "height": 368
    },
    "id": "a5ac4b21",
    "outputId": "c89bda6e-6ee9-4763-ea50-b25f25cf5ffd"
   },
   "outputs": [],
   "source": [
    "# imports\n",
    "import numpy as np\n",
    "from ucr import load_UCR_dataset\n",
    "from utils import plot_with_labels\n",
    "from config import PATH_TO_DATA, PATH_TO_MODELS, PATH_TO_DATA_UCR, PATH_TO_MODELS_UCR\n",
    "from itertools import compress\n",
    "from models.models_utils import load_pretrained\n",
    "from scikit_wrappers import CausalCNNEncoderClassifier\n",
    "from matplotlib import pyplot as plt\n",
    "from sklearn.manifold import TSNE\n",
    "\n",
    "%matplotlib inline"
   ]
  },
  {
   "cell_type": "markdown",
   "id": "bf0d6a1f",
   "metadata": {
    "id": "bf0d6a1f"
   },
   "source": [
    "# 2) Dataset"
   ]
  },
  {
   "cell_type": "code",
   "execution_count": 5,
   "id": "b1308a17",
   "metadata": {
    "id": "b1308a17",
    "outputId": "fd06d565-3715-4819-f3ba-4afc6c671717"
   },
   "outputs": [
    {
     "name": "stdout",
     "output_type": "stream",
     "text": [
      "['Haptics', 'SyntheticControl', 'Worms', 'Computers', 'HouseTwenty']\n",
      "Loaded dataset: Adiac\n"
     ]
    }
   ],
   "source": [
    "# List datasets\n",
    "complete_path = path.join(PATH_TO_DATA, PATH_TO_DATA_UCR)\n",
    "ls_datasets = listdir( complete_path )\n",
    "ls_datasets = [i_ for i_ in ls_datasets if path.isdir( path.join(complete_path, i_) )]\n",
    "\n",
    "print(ls_datasets[:5])\n",
    "\n",
    "ls_datasets = ['Adiac']\n",
    "# Load dataset - UCR\n",
    "id_ = 0\n",
    "loaded_data = load_UCR_dataset(complete_path, ls_datasets[id_])\n",
    "\n",
    "print('Loaded dataset: %s'%(ls_datasets[id_]))"
   ]
  },
  {
   "cell_type": "code",
   "execution_count": 6,
   "id": "782aa951",
   "metadata": {
    "id": "782aa951",
    "outputId": "190dfa21-a838-4bd2-cfc2-6abcc3ce1572"
   },
   "outputs": [
    {
     "name": "stdout",
     "output_type": "stream",
     "text": [
      "(390, 1, 176)\n"
     ]
    }
   ],
   "source": [
    "print(loaded_data[0].shape)"
   ]
  },
  {
   "cell_type": "code",
   "execution_count": 7,
   "id": "1f13657c",
   "metadata": {
    "id": "1f13657c"
   },
   "outputs": [],
   "source": [
    "# Split\n",
    "dt_tr = loaded_data[0]\n",
    "dt_tr_lab = loaded_data[1]\n",
    "dt_ts = loaded_data[2]\n",
    "dt_ts_lab = loaded_data[3]"
   ]
  },
  {
   "cell_type": "code",
   "execution_count": 8,
   "id": "4a67df98",
   "metadata": {
    "id": "4a67df98",
    "outputId": "e14f47f9-c7a2-4ef9-93f9-f5c63a441534"
   },
   "outputs": [
    {
     "name": "stdout",
     "output_type": "stream",
     "text": [
      "(390, 1, 176)\n"
     ]
    }
   ],
   "source": [
    "print(dt_tr.shape)"
   ]
  },
  {
   "cell_type": "markdown",
   "id": "24ce7f35",
   "metadata": {
    "id": "24ce7f35"
   },
   "source": [
    "# 3) Model : training"
   ]
  },
  {
   "cell_type": "code",
   "execution_count": null,
   "id": "91acfb8d",
   "metadata": {
    "id": "91acfb8d"
   },
   "outputs": [],
   "source": [
    "# Default hyper-params\n",
    "path_to_hyper = \"default_hyperparameters.json\"\n",
    "\n",
    "# Init encoder\n",
    "model = load_pretrained(root_assets, model_origin='default')"
   ]
  },
  {
   "cell_type": "code",
   "execution_count": null,
   "id": "226f4594",
   "metadata": {
    "id": "226f4594",
    "outputId": "e7e3623d-8f67-4867-e105-bd4cab655341"
   },
   "outputs": [
    {
     "data": {
      "text/plain": [
       "CausalCNNEncoderClassifier(batch_size=10, channels=40, compared_length=inf,\n",
       "              cuda=False, depth=10, early_stopping=None, gpu=False,\n",
       "              in_channels=1, kernel_size=3, lr=0.001, nb_random_samples=10,\n",
       "              nb_steps=1500, negative_penalty=1, out_channels=320,\n",
       "              penalty=None, reduced_size=160)"
      ]
     },
     "execution_count": 15,
     "metadata": {},
     "output_type": "execute_result"
    }
   ],
   "source": [
    "model"
   ]
  },
  {
   "cell_type": "code",
   "execution_count": null,
   "id": "e01fcf6b",
   "metadata": {
    "id": "e01fcf6b",
    "outputId": "5601956d-4101-4313-b859-08544f21ba81"
   },
   "outputs": [
    {
     "ename": "KeyboardInterrupt",
     "evalue": "",
     "output_type": "error",
     "traceback": [
      "\u001b[0;31m---------------------------------------------------------------------------\u001b[0m",
      "\u001b[0;31mKeyboardInterrupt\u001b[0m                         Traceback (most recent call last)",
      "\u001b[0;32m<ipython-input-16-ae2b6d7f5a4e>\u001b[0m in \u001b[0;36m<module>\u001b[0;34m\u001b[0m\n\u001b[1;32m      1\u001b[0m \u001b[0;31m# Encode dataset\u001b[0m\u001b[0;34m\u001b[0m\u001b[0;34m\u001b[0m\u001b[0;34m\u001b[0m\u001b[0m\n\u001b[0;32m----> 2\u001b[0;31m \u001b[0mmodel\u001b[0m\u001b[0;34m.\u001b[0m\u001b[0mfit_encoder\u001b[0m\u001b[0;34m(\u001b[0m\u001b[0mdt_tr\u001b[0m\u001b[0;34m)\u001b[0m\u001b[0;34m\u001b[0m\u001b[0;34m\u001b[0m\u001b[0m\n\u001b[0m",
      "\u001b[0;32m~/Documents/JACOBB/Code/UnsupervisedTS/scikit_wrappers.py\u001b[0m in \u001b[0;36mfit_encoder\u001b[0;34m(self, X, y, save_memory, verbose)\u001b[0m\n\u001b[1;32m    262\u001b[0m                         \u001b[0mbatch\u001b[0m\u001b[0;34m,\u001b[0m \u001b[0mself\u001b[0m\u001b[0;34m.\u001b[0m\u001b[0mencoder\u001b[0m\u001b[0;34m,\u001b[0m \u001b[0mtrain\u001b[0m\u001b[0;34m,\u001b[0m \u001b[0msave_memory\u001b[0m\u001b[0;34m=\u001b[0m\u001b[0msave_memory\u001b[0m\u001b[0;34m\u001b[0m\u001b[0;34m\u001b[0m\u001b[0m\n\u001b[1;32m    263\u001b[0m                     )\n\u001b[0;32m--> 264\u001b[0;31m                 \u001b[0mloss\u001b[0m\u001b[0;34m.\u001b[0m\u001b[0mbackward\u001b[0m\u001b[0;34m(\u001b[0m\u001b[0;34m)\u001b[0m\u001b[0;34m\u001b[0m\u001b[0;34m\u001b[0m\u001b[0m\n\u001b[0m\u001b[1;32m    265\u001b[0m                 \u001b[0mself\u001b[0m\u001b[0;34m.\u001b[0m\u001b[0moptimizer\u001b[0m\u001b[0;34m.\u001b[0m\u001b[0mstep\u001b[0m\u001b[0;34m(\u001b[0m\u001b[0;34m)\u001b[0m\u001b[0;34m\u001b[0m\u001b[0;34m\u001b[0m\u001b[0m\n\u001b[1;32m    266\u001b[0m                 \u001b[0mi\u001b[0m \u001b[0;34m+=\u001b[0m \u001b[0;36m1\u001b[0m\u001b[0;34m\u001b[0m\u001b[0;34m\u001b[0m\u001b[0m\n",
      "\u001b[0;32m~/opt/miniconda3/envs/cvtcorp/lib/python3.7/site-packages/torch/tensor.py\u001b[0m in \u001b[0;36mbackward\u001b[0;34m(self, gradient, retain_graph, create_graph)\u001b[0m\n\u001b[1;32m    193\u001b[0m                 \u001b[0mproducts\u001b[0m\u001b[0;34m.\u001b[0m \u001b[0mDefaults\u001b[0m \u001b[0mto\u001b[0m\u001b[0;31m \u001b[0m\u001b[0;31m`\u001b[0m\u001b[0;31m`\u001b[0m\u001b[0;32mFalse\u001b[0m\u001b[0;31m`\u001b[0m\u001b[0;31m`\u001b[0m\u001b[0;34m.\u001b[0m\u001b[0;34m\u001b[0m\u001b[0;34m\u001b[0m\u001b[0m\n\u001b[1;32m    194\u001b[0m         \"\"\"\n\u001b[0;32m--> 195\u001b[0;31m         \u001b[0mtorch\u001b[0m\u001b[0;34m.\u001b[0m\u001b[0mautograd\u001b[0m\u001b[0;34m.\u001b[0m\u001b[0mbackward\u001b[0m\u001b[0;34m(\u001b[0m\u001b[0mself\u001b[0m\u001b[0;34m,\u001b[0m \u001b[0mgradient\u001b[0m\u001b[0;34m,\u001b[0m \u001b[0mretain_graph\u001b[0m\u001b[0;34m,\u001b[0m \u001b[0mcreate_graph\u001b[0m\u001b[0;34m)\u001b[0m\u001b[0;34m\u001b[0m\u001b[0;34m\u001b[0m\u001b[0m\n\u001b[0m\u001b[1;32m    196\u001b[0m \u001b[0;34m\u001b[0m\u001b[0m\n\u001b[1;32m    197\u001b[0m     \u001b[0;32mdef\u001b[0m \u001b[0mregister_hook\u001b[0m\u001b[0;34m(\u001b[0m\u001b[0mself\u001b[0m\u001b[0;34m,\u001b[0m \u001b[0mhook\u001b[0m\u001b[0;34m)\u001b[0m\u001b[0;34m:\u001b[0m\u001b[0;34m\u001b[0m\u001b[0;34m\u001b[0m\u001b[0m\n",
      "\u001b[0;32m~/opt/miniconda3/envs/cvtcorp/lib/python3.7/site-packages/torch/autograd/__init__.py\u001b[0m in \u001b[0;36mbackward\u001b[0;34m(tensors, grad_tensors, retain_graph, create_graph, grad_variables)\u001b[0m\n\u001b[1;32m     97\u001b[0m     Variable._execution_engine.run_backward(\n\u001b[1;32m     98\u001b[0m         \u001b[0mtensors\u001b[0m\u001b[0;34m,\u001b[0m \u001b[0mgrad_tensors\u001b[0m\u001b[0;34m,\u001b[0m \u001b[0mretain_graph\u001b[0m\u001b[0;34m,\u001b[0m \u001b[0mcreate_graph\u001b[0m\u001b[0;34m,\u001b[0m\u001b[0;34m\u001b[0m\u001b[0;34m\u001b[0m\u001b[0m\n\u001b[0;32m---> 99\u001b[0;31m         allow_unreachable=True)  # allow_unreachable flag\n\u001b[0m\u001b[1;32m    100\u001b[0m \u001b[0;34m\u001b[0m\u001b[0m\n\u001b[1;32m    101\u001b[0m \u001b[0;34m\u001b[0m\u001b[0m\n",
      "\u001b[0;31mKeyboardInterrupt\u001b[0m: "
     ]
    }
   ],
   "source": [
    "# Encode dataset\n",
    "model.fit_encoder(dt_tr)"
   ]
  },
  {
   "cell_type": "markdown",
   "id": "3558bf5b",
   "metadata": {
    "id": "3558bf5b"
   },
   "source": [
    "# 4) Model : inference"
   ]
  },
  {
   "cell_type": "code",
   "execution_count": null,
   "id": "e290f1d4",
   "metadata": {
    "id": "e290f1d4"
   },
   "outputs": [],
   "source": [
    "# Encode sequences\n",
    "enc_tr = model.encode(dt_tr)\n",
    "enc_ts = model.encode(dt_ts)"
   ]
  },
  {
   "cell_type": "code",
   "execution_count": null,
   "id": "30aaffeb",
   "metadata": {
    "id": "30aaffeb"
   },
   "outputs": [],
   "source": [
    "# Dimensionality reduction\n",
    "tsne = TSNE(n_components=2, verbose=1, perplexity=40, n_iter=300)\n",
    "tsne_tr = tsne.fit_transform(enc_tr)\n",
    "tsne_ts = tsne.fit_transform(enc_ts)\n",
    "print(tsne_tr.shape)"
   ]
  },
  {
   "cell_type": "code",
   "execution_count": null,
   "id": "c41241f2",
   "metadata": {
    "id": "c41241f2"
   },
   "outputs": [],
   "source": [
    "# Display: training data\n",
    "hF, Ax = plot_with_labels(tsne_tr, dt_tr_lab, marker='o',\n",
    "                          legend='TRAIN', \n",
    "                          title='Dataset: %s'%(ls_datasets[id_]))"
   ]
  },
  {
   "cell_type": "code",
   "execution_count": null,
   "id": "7ebdf6f8",
   "metadata": {
    "id": "7ebdf6f8"
   },
   "outputs": [],
   "source": [
    "# Display: test data\n",
    "hF, Ax = plot_with_labels(tsne_ts, dt_ts_lab, marker='o',\n",
    "                          legend='TEST', \n",
    "                          title='Dataset: %s'%(ls_datasets[id_]))"
   ]
  },
  {
   "cell_type": "code",
   "execution_count": null,
   "id": "8500aff6",
   "metadata": {
    "id": "8500aff6"
   },
   "outputs": [],
   "source": []
  }
 ],
 "metadata": {
  "colab": {
   "name": "train_encoder_univariate.ipynb",
   "provenance": []
  },
  "kernelspec": {
   "display_name": "Python 3",
   "language": "python",
   "name": "python3"
  },
  "language_info": {
   "codemirror_mode": {
    "name": "ipython",
    "version": 3
   },
   "file_extension": ".py",
   "mimetype": "text/x-python",
   "name": "python",
   "nbconvert_exporter": "python",
   "pygments_lexer": "ipython3",
   "version": "3.7.10"
  }
 },
 "nbformat": 4,
 "nbformat_minor": 5
}
