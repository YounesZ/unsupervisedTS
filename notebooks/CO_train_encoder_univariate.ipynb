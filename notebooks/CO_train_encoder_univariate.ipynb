{
 "cells": [
  {
   "cell_type": "markdown",
   "id": "4cf5a898",
   "metadata": {
    "id": "4cf5a898"
   },
   "source": [
    "# 1) Set up"
   ]
  },
  {
   "cell_type": "code",
   "execution_count": 6,
   "id": "ndp9FcHKpO-X",
   "metadata": {
    "colab": {
     "base_uri": "https://localhost:8080/"
    },
    "id": "ndp9FcHKpO-X",
    "outputId": "f724ee7a-ccd1-4e7c-ea6e-79faf3ad310a"
   },
   "outputs": [
    {
     "name": "stdout",
     "output_type": "stream",
     "text": [
      "Drive already mounted at /content/drive; to attempt to forcibly remount, call drive.mount(\"/content/drive\", force_remount=True).\n"
     ]
    }
   ],
   "source": [
    "from google.colab import drive\n",
    "drive.mount('/content/drive')"
   ]
  },
  {
   "cell_type": "code",
   "execution_count": 1,
   "id": "k1udLxbqpng0",
   "metadata": {
    "id": "k1udLxbqpng0"
   },
   "outputs": [],
   "source": [
    "# rewind back to root\n",
    "from os import path, chdir, listdir, getcwd\n",
    "root_assets = 'content/drive/MyDrive/JACOBB'"
   ]
  },
  {
   "cell_type": "code",
   "execution_count": 3,
   "id": "e96aaeba",
   "metadata": {
    "id": "e96aaeba"
   },
   "outputs": [],
   "source": [
    "# rewind back to root\n",
    "from os import path, chdir, listdir\n",
    "chdir('..')"
   ]
  },
  {
   "cell_type": "code",
   "execution_count": 4,
   "id": "a5ac4b21",
   "metadata": {
    "colab": {
     "base_uri": "https://localhost:8080/",
     "height": 368
    },
    "id": "a5ac4b21",
    "outputId": "c89bda6e-6ee9-4763-ea50-b25f25cf5ffd"
   },
   "outputs": [],
   "source": [
    "# imports\n",
    "import numpy as np\n",
    "from ucr import load_UCR_dataset\n",
    "from utils import plot_with_labels\n",
    "from config import PATH_TO_DATA, PATH_TO_MODELS, PATH_TO_DATA_UCR, PATH_TO_MODELS_UCR\n",
    "from itertools import compress\n",
    "from models.models_utils import load_pretrained\n",
    "from scikit_wrappers import CausalCNNEncoderClassifier\n",
    "from matplotlib import pyplot as plt\n",
    "from sklearn.manifold import TSNE\n",
    "\n",
    "%matplotlib inline"
   ]
  },
  {
   "cell_type": "markdown",
   "id": "bf0d6a1f",
   "metadata": {
    "id": "bf0d6a1f"
   },
   "source": [
    "# 2) Dataset"
   ]
  },
  {
   "cell_type": "code",
   "execution_count": 5,
   "id": "b1308a17",
   "metadata": {
    "id": "b1308a17",
    "outputId": "fd06d565-3715-4819-f3ba-4afc6c671717"
   },
   "outputs": [
    {
     "name": "stdout",
     "output_type": "stream",
     "text": [
      "['Haptics', 'SyntheticControl', 'Worms', 'Computers', 'HouseTwenty']\n",
      "Loaded dataset: Adiac\n"
     ]
    }
   ],
   "source": [
    "# List datasets\n",
    "complete_path = path.join(PATH_TO_DATA, PATH_TO_DATA_UCR)\n",
    "ls_datasets = listdir( complete_path )\n",
    "ls_datasets = [i_ for i_ in ls_datasets if path.isdir( path.join(complete_path, i_) )]\n",
    "\n",
    "print(ls_datasets[:5])\n",
    "\n",
    "ls_datasets = ['Adiac']\n",
    "# Load dataset - UCR\n",
    "id_ = 0\n",
    "loaded_data = load_UCR_dataset(complete_path, ls_datasets[id_])\n",
    "\n",
    "print('Loaded dataset: %s'%(ls_datasets[id_]))"
   ]
  },
  {
   "cell_type": "code",
   "execution_count": 6,
   "id": "782aa951",
   "metadata": {
    "id": "782aa951",
    "outputId": "190dfa21-a838-4bd2-cfc2-6abcc3ce1572"
   },
   "outputs": [
    {
     "name": "stdout",
     "output_type": "stream",
     "text": [
      "(390, 1, 176)\n"
     ]
    }
   ],
   "source": [
    "print(loaded_data[0].shape)"
   ]
  },
  {
   "cell_type": "code",
   "execution_count": 7,
   "id": "1f13657c",
   "metadata": {
    "id": "1f13657c"
   },
   "outputs": [],
   "source": [
    "# Split\n",
    "dt_tr = loaded_data[0]\n",
    "dt_tr_lab = loaded_data[1]\n",
    "dt_ts = loaded_data[2]\n",
    "dt_ts_lab = loaded_data[3]"
   ]
  },
  {
   "cell_type": "code",
   "execution_count": 8,
   "id": "4a67df98",
   "metadata": {
    "id": "4a67df98",
    "outputId": "e14f47f9-c7a2-4ef9-93f9-f5c63a441534"
   },
   "outputs": [
    {
     "name": "stdout",
     "output_type": "stream",
     "text": [
      "(390, 1, 176)\n"
     ]
    }
   ],
   "source": [
    "print(dt_tr.shape)"
   ]
  },
  {
   "cell_type": "markdown",
   "id": "24ce7f35",
   "metadata": {
    "id": "24ce7f35"
   },
   "source": [
    "# 3) Model : training"
   ]
  },
  {
   "cell_type": "code",
   "execution_count": 10,
   "id": "91acfb8d",
   "metadata": {
    "id": "91acfb8d"
   },
   "outputs": [],
   "source": [
    "# Default hyper-params\n",
    "path_to_hyper = \"default_hyperparameters.json\"\n",
    "\n",
    "# Init encoder\n",
    "model = load_pretrained(root_assets, model_origin='default')"
   ]
  },
  {
   "cell_type": "code",
   "execution_count": 11,
   "id": "226f4594",
   "metadata": {
    "id": "226f4594",
    "outputId": "e7e3623d-8f67-4867-e105-bd4cab655341"
   },
   "outputs": [
    {
     "data": {
      "text/plain": [
       "CausalCNNEncoderClassifier(batch_size=10, channels=40, compared_length=inf,\n",
       "              cuda=False, depth=10, early_stopping=None, gpu=False,\n",
       "              in_channels=1, kernel_size=3, lr=0.001, nb_random_samples=10,\n",
       "              nb_steps=1500, negative_penalty=1, out_channels=320,\n",
       "              penalty=None, reduced_size=160)"
      ]
     },
     "execution_count": 11,
     "metadata": {},
     "output_type": "execute_result"
    }
   ],
   "source": [
    "model"
   ]
  },
  {
   "cell_type": "code",
   "execution_count": 12,
   "id": "e01fcf6b",
   "metadata": {
    "id": "e01fcf6b",
    "outputId": "5601956d-4101-4313-b859-08544f21ba81"
   },
   "outputs": [
    {
     "data": {
      "text/plain": [
       "CausalCNNEncoder(\n",
       "  (network): Sequential(\n",
       "    (0): CausalCNN(\n",
       "      (network): Sequential(\n",
       "        (0): CausalConvolutionBlock(\n",
       "          (causal): Sequential(\n",
       "            (0): Conv1d(1, 40, kernel_size=(3,), stride=(1,), padding=(2,))\n",
       "            (1): Chomp1d()\n",
       "            (2): LeakyReLU(negative_slope=0.01)\n",
       "            (3): Conv1d(40, 40, kernel_size=(3,), stride=(1,), padding=(2,))\n",
       "            (4): Chomp1d()\n",
       "            (5): LeakyReLU(negative_slope=0.01)\n",
       "          )\n",
       "          (upordownsample): Conv1d(1, 40, kernel_size=(1,), stride=(1,))\n",
       "        )\n",
       "        (1): CausalConvolutionBlock(\n",
       "          (causal): Sequential(\n",
       "            (0): Conv1d(40, 40, kernel_size=(3,), stride=(1,), padding=(4,), dilation=(2,))\n",
       "            (1): Chomp1d()\n",
       "            (2): LeakyReLU(negative_slope=0.01)\n",
       "            (3): Conv1d(40, 40, kernel_size=(3,), stride=(1,), padding=(4,), dilation=(2,))\n",
       "            (4): Chomp1d()\n",
       "            (5): LeakyReLU(negative_slope=0.01)\n",
       "          )\n",
       "        )\n",
       "        (2): CausalConvolutionBlock(\n",
       "          (causal): Sequential(\n",
       "            (0): Conv1d(40, 40, kernel_size=(3,), stride=(1,), padding=(8,), dilation=(4,))\n",
       "            (1): Chomp1d()\n",
       "            (2): LeakyReLU(negative_slope=0.01)\n",
       "            (3): Conv1d(40, 40, kernel_size=(3,), stride=(1,), padding=(8,), dilation=(4,))\n",
       "            (4): Chomp1d()\n",
       "            (5): LeakyReLU(negative_slope=0.01)\n",
       "          )\n",
       "        )\n",
       "        (3): CausalConvolutionBlock(\n",
       "          (causal): Sequential(\n",
       "            (0): Conv1d(40, 40, kernel_size=(3,), stride=(1,), padding=(16,), dilation=(8,))\n",
       "            (1): Chomp1d()\n",
       "            (2): LeakyReLU(negative_slope=0.01)\n",
       "            (3): Conv1d(40, 40, kernel_size=(3,), stride=(1,), padding=(16,), dilation=(8,))\n",
       "            (4): Chomp1d()\n",
       "            (5): LeakyReLU(negative_slope=0.01)\n",
       "          )\n",
       "        )\n",
       "        (4): CausalConvolutionBlock(\n",
       "          (causal): Sequential(\n",
       "            (0): Conv1d(40, 40, kernel_size=(3,), stride=(1,), padding=(32,), dilation=(16,))\n",
       "            (1): Chomp1d()\n",
       "            (2): LeakyReLU(negative_slope=0.01)\n",
       "            (3): Conv1d(40, 40, kernel_size=(3,), stride=(1,), padding=(32,), dilation=(16,))\n",
       "            (4): Chomp1d()\n",
       "            (5): LeakyReLU(negative_slope=0.01)\n",
       "          )\n",
       "        )\n",
       "        (5): CausalConvolutionBlock(\n",
       "          (causal): Sequential(\n",
       "            (0): Conv1d(40, 40, kernel_size=(3,), stride=(1,), padding=(64,), dilation=(32,))\n",
       "            (1): Chomp1d()\n",
       "            (2): LeakyReLU(negative_slope=0.01)\n",
       "            (3): Conv1d(40, 40, kernel_size=(3,), stride=(1,), padding=(64,), dilation=(32,))\n",
       "            (4): Chomp1d()\n",
       "            (5): LeakyReLU(negative_slope=0.01)\n",
       "          )\n",
       "        )\n",
       "        (6): CausalConvolutionBlock(\n",
       "          (causal): Sequential(\n",
       "            (0): Conv1d(40, 40, kernel_size=(3,), stride=(1,), padding=(128,), dilation=(64,))\n",
       "            (1): Chomp1d()\n",
       "            (2): LeakyReLU(negative_slope=0.01)\n",
       "            (3): Conv1d(40, 40, kernel_size=(3,), stride=(1,), padding=(128,), dilation=(64,))\n",
       "            (4): Chomp1d()\n",
       "            (5): LeakyReLU(negative_slope=0.01)\n",
       "          )\n",
       "        )\n",
       "        (7): CausalConvolutionBlock(\n",
       "          (causal): Sequential(\n",
       "            (0): Conv1d(40, 40, kernel_size=(3,), stride=(1,), padding=(256,), dilation=(128,))\n",
       "            (1): Chomp1d()\n",
       "            (2): LeakyReLU(negative_slope=0.01)\n",
       "            (3): Conv1d(40, 40, kernel_size=(3,), stride=(1,), padding=(256,), dilation=(128,))\n",
       "            (4): Chomp1d()\n",
       "            (5): LeakyReLU(negative_slope=0.01)\n",
       "          )\n",
       "        )\n",
       "        (8): CausalConvolutionBlock(\n",
       "          (causal): Sequential(\n",
       "            (0): Conv1d(40, 40, kernel_size=(3,), stride=(1,), padding=(512,), dilation=(256,))\n",
       "            (1): Chomp1d()\n",
       "            (2): LeakyReLU(negative_slope=0.01)\n",
       "            (3): Conv1d(40, 40, kernel_size=(3,), stride=(1,), padding=(512,), dilation=(256,))\n",
       "            (4): Chomp1d()\n",
       "            (5): LeakyReLU(negative_slope=0.01)\n",
       "          )\n",
       "        )\n",
       "        (9): CausalConvolutionBlock(\n",
       "          (causal): Sequential(\n",
       "            (0): Conv1d(40, 40, kernel_size=(3,), stride=(1,), padding=(1024,), dilation=(512,))\n",
       "            (1): Chomp1d()\n",
       "            (2): LeakyReLU(negative_slope=0.01)\n",
       "            (3): Conv1d(40, 40, kernel_size=(3,), stride=(1,), padding=(1024,), dilation=(512,))\n",
       "            (4): Chomp1d()\n",
       "            (5): LeakyReLU(negative_slope=0.01)\n",
       "          )\n",
       "        )\n",
       "        (10): CausalConvolutionBlock(\n",
       "          (causal): Sequential(\n",
       "            (0): Conv1d(40, 160, kernel_size=(3,), stride=(1,), padding=(2048,), dilation=(1024,))\n",
       "            (1): Chomp1d()\n",
       "            (2): LeakyReLU(negative_slope=0.01)\n",
       "            (3): Conv1d(160, 160, kernel_size=(3,), stride=(1,), padding=(2048,), dilation=(1024,))\n",
       "            (4): Chomp1d()\n",
       "            (5): LeakyReLU(negative_slope=0.01)\n",
       "          )\n",
       "          (upordownsample): Conv1d(40, 160, kernel_size=(1,), stride=(1,))\n",
       "        )\n",
       "      )\n",
       "    )\n",
       "    (1): AdaptiveMaxPool1d(output_size=1)\n",
       "    (2): SqueezeChannels()\n",
       "    (3): Linear(in_features=160, out_features=320, bias=True)\n",
       "  )\n",
       ")"
      ]
     },
     "execution_count": 12,
     "metadata": {},
     "output_type": "execute_result"
    }
   ],
   "source": [
    "# Encode dataset\n",
    "model.fit_encoder(dt_tr)"
   ]
  },
  {
   "cell_type": "markdown",
   "id": "3558bf5b",
   "metadata": {
    "id": "3558bf5b"
   },
   "source": [
    "# 4) Model : inference"
   ]
  },
  {
   "cell_type": "code",
   "execution_count": null,
   "id": "e290f1d4",
   "metadata": {
    "id": "e290f1d4"
   },
   "outputs": [],
   "source": [
    "# Encode sequences\n",
    "enc_tr = model.encode(dt_tr)\n",
    "enc_ts = model.encode(dt_ts)"
   ]
  },
  {
   "cell_type": "code",
   "execution_count": null,
   "id": "30aaffeb",
   "metadata": {
    "id": "30aaffeb"
   },
   "outputs": [],
   "source": [
    "# Dimensionality reduction\n",
    "tsne = TSNE(n_components=2, verbose=1, perplexity=40, n_iter=300)\n",
    "tsne_tr = tsne.fit_transform(enc_tr)\n",
    "tsne_ts = tsne.fit_transform(enc_ts)\n",
    "print(tsne_tr.shape)"
   ]
  },
  {
   "cell_type": "code",
   "execution_count": null,
   "id": "c41241f2",
   "metadata": {
    "id": "c41241f2"
   },
   "outputs": [],
   "source": [
    "# Display: training data\n",
    "hF, Ax = plot_with_labels(tsne_tr, dt_tr_lab, marker='o',\n",
    "                          legend='TRAIN', \n",
    "                          title='Dataset: %s'%(ls_datasets[id_]))"
   ]
  },
  {
   "cell_type": "code",
   "execution_count": null,
   "id": "7ebdf6f8",
   "metadata": {
    "id": "7ebdf6f8"
   },
   "outputs": [],
   "source": [
    "# Display: test data\n",
    "hF, Ax = plot_with_labels(tsne_ts, dt_ts_lab, marker='o',\n",
    "                          legend='TEST', \n",
    "                          title='Dataset: %s'%(ls_datasets[id_]))"
   ]
  },
  {
   "cell_type": "code",
   "execution_count": null,
   "id": "8500aff6",
   "metadata": {
    "id": "8500aff6"
   },
   "outputs": [],
   "source": []
  }
 ],
 "metadata": {
  "colab": {
   "name": "train_encoder_univariate.ipynb",
   "provenance": []
  },
  "kernelspec": {
   "display_name": "Python 3",
   "language": "python",
   "name": "python3"
  },
  "language_info": {
   "codemirror_mode": {
    "name": "ipython",
    "version": 3
   },
   "file_extension": ".py",
   "mimetype": "text/x-python",
   "name": "python",
   "nbconvert_exporter": "python",
   "pygments_lexer": "ipython3",
   "version": "3.7.10"
  }
 },
 "nbformat": 4,
 "nbformat_minor": 5
}
