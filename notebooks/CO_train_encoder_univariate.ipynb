{
  "nbformat": 4,
  "nbformat_minor": 5,
  "metadata": {
    "kernelspec": {
      "display_name": "Python 3",
      "language": "python",
      "name": "python3"
    },
    "language_info": {
      "codemirror_mode": {
        "name": "ipython",
        "version": 3
      },
      "file_extension": ".py",
      "mimetype": "text/x-python",
      "name": "python",
      "nbconvert_exporter": "python",
      "pygments_lexer": "ipython3",
      "version": "3.7.10"
    },
    "colab": {
      "name": "train_encoder_univariate.ipynb",
      "provenance": []
    }
  },
  "cells": [
    {
      "cell_type": "markdown",
      "metadata": {
        "id": "4cf5a898"
      },
      "source": [
        "# 1) Set up"
      ],
      "id": "4cf5a898"
    },
    {
      "cell_type": "code",
      "metadata": {
        "id": "ndp9FcHKpO-X",
        "outputId": "f724ee7a-ccd1-4e7c-ea6e-79faf3ad310a",
        "colab": {
          "base_uri": "https://localhost:8080/"
        }
      },
      "source": [
        "from google.colab import drive\n",
        "drive.mount('/content/drive')"
      ],
      "id": "ndp9FcHKpO-X",
      "execution_count": 6,
      "outputs": [
        {
          "output_type": "stream",
          "name": "stdout",
          "text": [
            "Drive already mounted at /content/drive; to attempt to forcibly remount, call drive.mount(\"/content/drive\", force_remount=True).\n"
          ]
        }
      ]
    },
    {
      "cell_type": "code",
      "metadata": {
        "id": "k1udLxbqpng0"
      },
      "source": [
        "# rewind back to root\n",
        "from os import path, chdir, listdir, getcwd\n",
        "root_assets = 'content/drive/MyDrive/JACOBB'"
      ],
      "id": "k1udLxbqpng0",
      "execution_count": 13,
      "outputs": []
    },
    {
      "cell_type": "code",
      "metadata": {
        "id": "e96aaeba"
      },
      "source": [
        "# rewind back to root\n",
        "from os import path, chdir, listdir\n",
        "chdir('..')"
      ],
      "id": "e96aaeba",
      "execution_count": 4,
      "outputs": []
    },
    {
      "cell_type": "code",
      "metadata": {
        "id": "a5ac4b21",
        "outputId": "c89bda6e-6ee9-4763-ea50-b25f25cf5ffd",
        "colab": {
          "base_uri": "https://localhost:8080/",
          "height": 368
        }
      },
      "source": [
        "# imports\n",
        "import numpy as np\n",
        "from ucr import load_UCR_dataset\n",
        "from utils import plot_with_labels\n",
        "from config import PATH_TO_DATA, PATH_TO_MODELS, PATH_TO_DATA_UCR, PATH_TO_MODELS_UCR\n",
        "from itertools import compress\n",
        "from models.models_utils import load_pretrained\n",
        "from scikit_wrappers import CausalCNNEncoderClassifier\n",
        "from matplotlib import pyplot as plt\n",
        "from sklearn.manifold import TSNE\n",
        "\n",
        "%matplotlib inline"
      ],
      "id": "a5ac4b21",
      "execution_count": 5,
      "outputs": [
        {
          "output_type": "error",
          "ename": "ModuleNotFoundError",
          "evalue": "ignored",
          "traceback": [
            "\u001b[0;31m---------------------------------------------------------------------------\u001b[0m",
            "\u001b[0;31mModuleNotFoundError\u001b[0m                       Traceback (most recent call last)",
            "\u001b[0;32m<ipython-input-5-50cdd426235d>\u001b[0m in \u001b[0;36m<module>\u001b[0;34m()\u001b[0m\n\u001b[1;32m      1\u001b[0m \u001b[0;31m# imports\u001b[0m\u001b[0;34m\u001b[0m\u001b[0;34m\u001b[0m\u001b[0;34m\u001b[0m\u001b[0m\n\u001b[1;32m      2\u001b[0m \u001b[0;32mimport\u001b[0m \u001b[0mnumpy\u001b[0m \u001b[0;32mas\u001b[0m \u001b[0mnp\u001b[0m\u001b[0;34m\u001b[0m\u001b[0;34m\u001b[0m\u001b[0m\n\u001b[0;32m----> 3\u001b[0;31m \u001b[0;32mfrom\u001b[0m \u001b[0mucr\u001b[0m \u001b[0;32mimport\u001b[0m \u001b[0mload_UCR_dataset\u001b[0m\u001b[0;34m\u001b[0m\u001b[0;34m\u001b[0m\u001b[0m\n\u001b[0m\u001b[1;32m      4\u001b[0m \u001b[0;32mfrom\u001b[0m \u001b[0mutils\u001b[0m \u001b[0;32mimport\u001b[0m \u001b[0mplot_with_labels\u001b[0m\u001b[0;34m\u001b[0m\u001b[0;34m\u001b[0m\u001b[0m\n\u001b[1;32m      5\u001b[0m \u001b[0;32mfrom\u001b[0m \u001b[0mconfig\u001b[0m \u001b[0;32mimport\u001b[0m \u001b[0mPATH_TO_DATA\u001b[0m\u001b[0;34m,\u001b[0m \u001b[0mPATH_TO_MODELS\u001b[0m\u001b[0;34m,\u001b[0m \u001b[0mPATH_TO_DATA_UCR\u001b[0m\u001b[0;34m,\u001b[0m \u001b[0mPATH_TO_MODELS_UCR\u001b[0m\u001b[0;34m\u001b[0m\u001b[0;34m\u001b[0m\u001b[0m\n",
            "\u001b[0;31mModuleNotFoundError\u001b[0m: No module named 'ucr'",
            "",
            "\u001b[0;31m---------------------------------------------------------------------------\u001b[0;32m\nNOTE: If your import is failing due to a missing package, you can\nmanually install dependencies using either !pip or !apt.\n\nTo view examples of installing some common dependencies, click the\n\"Open Examples\" button below.\n\u001b[0;31m---------------------------------------------------------------------------\u001b[0m\n"
          ],
          "errorDetails": {
            "actions": [
              {
                "action": "open_url",
                "actionText": "Open Examples",
                "url": "/notebooks/snippets/importing_libraries.ipynb"
              }
            ]
          }
        }
      ]
    },
    {
      "cell_type": "markdown",
      "metadata": {
        "id": "bf0d6a1f"
      },
      "source": [
        "# 2) Dataset"
      ],
      "id": "bf0d6a1f"
    },
    {
      "cell_type": "code",
      "metadata": {
        "id": "b1308a17",
        "outputId": "fd06d565-3715-4819-f3ba-4afc6c671717"
      },
      "source": [
        "# List datasets\n",
        "complete_path = path.join(PATH_TO_DATA, PATH_TO_DATA_UCR)\n",
        "ls_datasets = listdir( complete_path )\n",
        "ls_datasets = [i_ for i_ in ls_datasets if path.isdir( path.join(complete_path, i_) )]\n",
        "\n",
        "print(ls_datasets[:5])\n",
        "\n",
        "# Load dataset - UCR\n",
        "id_ = 0\n",
        "loaded_data = load_UCR_dataset(complete_path, ls_datasets[id_])\n",
        "\n",
        "print('Loaded dataset: %s'%(ls_datasets[id_]))"
      ],
      "id": "b1308a17",
      "execution_count": null,
      "outputs": [
        {
          "name": "stdout",
          "output_type": "stream",
          "text": [
            "['Haptics', 'SyntheticControl', 'Worms', 'Computers', 'HouseTwenty']\n",
            "Loaded dataset: Haptics\n"
          ]
        }
      ]
    },
    {
      "cell_type": "code",
      "metadata": {
        "id": "782aa951",
        "outputId": "190dfa21-a838-4bd2-cfc2-6abcc3ce1572"
      },
      "source": [
        "print(loaded_data[0].shape)"
      ],
      "id": "782aa951",
      "execution_count": null,
      "outputs": [
        {
          "name": "stdout",
          "output_type": "stream",
          "text": [
            "(155, 1, 1092)\n"
          ]
        }
      ]
    },
    {
      "cell_type": "code",
      "metadata": {
        "id": "1f13657c"
      },
      "source": [
        "# Split\n",
        "dt_tr = loaded_data[0]\n",
        "dt_tr_lab = loaded_data[1]\n",
        "dt_ts = loaded_data[2]\n",
        "dt_ts_lab = loaded_data[3]"
      ],
      "id": "1f13657c",
      "execution_count": null,
      "outputs": []
    },
    {
      "cell_type": "code",
      "metadata": {
        "id": "4a67df98",
        "outputId": "e14f47f9-c7a2-4ef9-93f9-f5c63a441534"
      },
      "source": [
        "print(dt_tr.shape)"
      ],
      "id": "4a67df98",
      "execution_count": null,
      "outputs": [
        {
          "name": "stdout",
          "output_type": "stream",
          "text": [
            "(155, 1, 1092)\n"
          ]
        }
      ]
    },
    {
      "cell_type": "markdown",
      "metadata": {
        "id": "24ce7f35"
      },
      "source": [
        "# 3) Model : training"
      ],
      "id": "24ce7f35"
    },
    {
      "cell_type": "code",
      "metadata": {
        "id": "91acfb8d"
      },
      "source": [
        "# Default hyper-params\n",
        "path_to_hyper = \"default_hyperparameters.json\"\n",
        "\n",
        "# Init encoder\n",
        "model = load_pretrained(model_origin='default')"
      ],
      "id": "91acfb8d",
      "execution_count": null,
      "outputs": []
    },
    {
      "cell_type": "code",
      "metadata": {
        "id": "226f4594",
        "outputId": "e7e3623d-8f67-4867-e105-bd4cab655341"
      },
      "source": [
        "model"
      ],
      "id": "226f4594",
      "execution_count": null,
      "outputs": [
        {
          "data": {
            "text/plain": [
              "CausalCNNEncoderClassifier(batch_size=10, channels=40, compared_length=inf,\n",
              "              cuda=False, depth=10, early_stopping=None, gpu=False,\n",
              "              in_channels=1, kernel_size=3, lr=0.001, nb_random_samples=10,\n",
              "              nb_steps=1500, negative_penalty=1, out_channels=320,\n",
              "              penalty=None, reduced_size=160)"
            ]
          },
          "execution_count": 15,
          "metadata": {},
          "output_type": "execute_result"
        }
      ]
    },
    {
      "cell_type": "code",
      "metadata": {
        "id": "e01fcf6b",
        "outputId": "5601956d-4101-4313-b859-08544f21ba81"
      },
      "source": [
        "# Encode dataset\n",
        "model.fit_encoder(dt_tr)"
      ],
      "id": "e01fcf6b",
      "execution_count": null,
      "outputs": [
        {
          "ename": "KeyboardInterrupt",
          "evalue": "",
          "output_type": "error",
          "traceback": [
            "\u001b[0;31m---------------------------------------------------------------------------\u001b[0m",
            "\u001b[0;31mKeyboardInterrupt\u001b[0m                         Traceback (most recent call last)",
            "\u001b[0;32m<ipython-input-16-ae2b6d7f5a4e>\u001b[0m in \u001b[0;36m<module>\u001b[0;34m\u001b[0m\n\u001b[1;32m      1\u001b[0m \u001b[0;31m# Encode dataset\u001b[0m\u001b[0;34m\u001b[0m\u001b[0;34m\u001b[0m\u001b[0;34m\u001b[0m\u001b[0m\n\u001b[0;32m----> 2\u001b[0;31m \u001b[0mmodel\u001b[0m\u001b[0;34m.\u001b[0m\u001b[0mfit_encoder\u001b[0m\u001b[0;34m(\u001b[0m\u001b[0mdt_tr\u001b[0m\u001b[0;34m)\u001b[0m\u001b[0;34m\u001b[0m\u001b[0;34m\u001b[0m\u001b[0m\n\u001b[0m",
            "\u001b[0;32m~/Documents/JACOBB/Code/UnsupervisedTS/scikit_wrappers.py\u001b[0m in \u001b[0;36mfit_encoder\u001b[0;34m(self, X, y, save_memory, verbose)\u001b[0m\n\u001b[1;32m    262\u001b[0m                         \u001b[0mbatch\u001b[0m\u001b[0;34m,\u001b[0m \u001b[0mself\u001b[0m\u001b[0;34m.\u001b[0m\u001b[0mencoder\u001b[0m\u001b[0;34m,\u001b[0m \u001b[0mtrain\u001b[0m\u001b[0;34m,\u001b[0m \u001b[0msave_memory\u001b[0m\u001b[0;34m=\u001b[0m\u001b[0msave_memory\u001b[0m\u001b[0;34m\u001b[0m\u001b[0;34m\u001b[0m\u001b[0m\n\u001b[1;32m    263\u001b[0m                     )\n\u001b[0;32m--> 264\u001b[0;31m                 \u001b[0mloss\u001b[0m\u001b[0;34m.\u001b[0m\u001b[0mbackward\u001b[0m\u001b[0;34m(\u001b[0m\u001b[0;34m)\u001b[0m\u001b[0;34m\u001b[0m\u001b[0;34m\u001b[0m\u001b[0m\n\u001b[0m\u001b[1;32m    265\u001b[0m                 \u001b[0mself\u001b[0m\u001b[0;34m.\u001b[0m\u001b[0moptimizer\u001b[0m\u001b[0;34m.\u001b[0m\u001b[0mstep\u001b[0m\u001b[0;34m(\u001b[0m\u001b[0;34m)\u001b[0m\u001b[0;34m\u001b[0m\u001b[0;34m\u001b[0m\u001b[0m\n\u001b[1;32m    266\u001b[0m                 \u001b[0mi\u001b[0m \u001b[0;34m+=\u001b[0m \u001b[0;36m1\u001b[0m\u001b[0;34m\u001b[0m\u001b[0;34m\u001b[0m\u001b[0m\n",
            "\u001b[0;32m~/opt/miniconda3/envs/cvtcorp/lib/python3.7/site-packages/torch/tensor.py\u001b[0m in \u001b[0;36mbackward\u001b[0;34m(self, gradient, retain_graph, create_graph)\u001b[0m\n\u001b[1;32m    193\u001b[0m                 \u001b[0mproducts\u001b[0m\u001b[0;34m.\u001b[0m \u001b[0mDefaults\u001b[0m \u001b[0mto\u001b[0m\u001b[0;31m \u001b[0m\u001b[0;31m`\u001b[0m\u001b[0;31m`\u001b[0m\u001b[0;32mFalse\u001b[0m\u001b[0;31m`\u001b[0m\u001b[0;31m`\u001b[0m\u001b[0;34m.\u001b[0m\u001b[0;34m\u001b[0m\u001b[0;34m\u001b[0m\u001b[0m\n\u001b[1;32m    194\u001b[0m         \"\"\"\n\u001b[0;32m--> 195\u001b[0;31m         \u001b[0mtorch\u001b[0m\u001b[0;34m.\u001b[0m\u001b[0mautograd\u001b[0m\u001b[0;34m.\u001b[0m\u001b[0mbackward\u001b[0m\u001b[0;34m(\u001b[0m\u001b[0mself\u001b[0m\u001b[0;34m,\u001b[0m \u001b[0mgradient\u001b[0m\u001b[0;34m,\u001b[0m \u001b[0mretain_graph\u001b[0m\u001b[0;34m,\u001b[0m \u001b[0mcreate_graph\u001b[0m\u001b[0;34m)\u001b[0m\u001b[0;34m\u001b[0m\u001b[0;34m\u001b[0m\u001b[0m\n\u001b[0m\u001b[1;32m    196\u001b[0m \u001b[0;34m\u001b[0m\u001b[0m\n\u001b[1;32m    197\u001b[0m     \u001b[0;32mdef\u001b[0m \u001b[0mregister_hook\u001b[0m\u001b[0;34m(\u001b[0m\u001b[0mself\u001b[0m\u001b[0;34m,\u001b[0m \u001b[0mhook\u001b[0m\u001b[0;34m)\u001b[0m\u001b[0;34m:\u001b[0m\u001b[0;34m\u001b[0m\u001b[0;34m\u001b[0m\u001b[0m\n",
            "\u001b[0;32m~/opt/miniconda3/envs/cvtcorp/lib/python3.7/site-packages/torch/autograd/__init__.py\u001b[0m in \u001b[0;36mbackward\u001b[0;34m(tensors, grad_tensors, retain_graph, create_graph, grad_variables)\u001b[0m\n\u001b[1;32m     97\u001b[0m     Variable._execution_engine.run_backward(\n\u001b[1;32m     98\u001b[0m         \u001b[0mtensors\u001b[0m\u001b[0;34m,\u001b[0m \u001b[0mgrad_tensors\u001b[0m\u001b[0;34m,\u001b[0m \u001b[0mretain_graph\u001b[0m\u001b[0;34m,\u001b[0m \u001b[0mcreate_graph\u001b[0m\u001b[0;34m,\u001b[0m\u001b[0;34m\u001b[0m\u001b[0;34m\u001b[0m\u001b[0m\n\u001b[0;32m---> 99\u001b[0;31m         allow_unreachable=True)  # allow_unreachable flag\n\u001b[0m\u001b[1;32m    100\u001b[0m \u001b[0;34m\u001b[0m\u001b[0m\n\u001b[1;32m    101\u001b[0m \u001b[0;34m\u001b[0m\u001b[0m\n",
            "\u001b[0;31mKeyboardInterrupt\u001b[0m: "
          ]
        }
      ]
    },
    {
      "cell_type": "markdown",
      "metadata": {
        "id": "3558bf5b"
      },
      "source": [
        "# 4) Model : inference"
      ],
      "id": "3558bf5b"
    },
    {
      "cell_type": "code",
      "metadata": {
        "id": "e290f1d4"
      },
      "source": [
        "# Encode sequences\n",
        "enc_tr = model.encode(dt_tr)\n",
        "enc_ts = model.encode(dt_ts)"
      ],
      "id": "e290f1d4",
      "execution_count": null,
      "outputs": []
    },
    {
      "cell_type": "code",
      "metadata": {
        "id": "30aaffeb"
      },
      "source": [
        "# Dimensionality reduction\n",
        "tsne = TSNE(n_components=2, verbose=1, perplexity=40, n_iter=300)\n",
        "tsne_tr = tsne.fit_transform(enc_tr)\n",
        "tsne_ts = tsne.fit_transform(enc_ts)\n",
        "print(tsne_tr.shape)"
      ],
      "id": "30aaffeb",
      "execution_count": null,
      "outputs": []
    },
    {
      "cell_type": "code",
      "metadata": {
        "id": "c41241f2"
      },
      "source": [
        "# Display: training data\n",
        "hF, Ax = plot_with_labels(tsne_tr, dt_tr_lab, marker='o',\n",
        "                          legend='TRAIN', \n",
        "                          title='Dataset: %s'%(ls_datasets[id_]))"
      ],
      "id": "c41241f2",
      "execution_count": null,
      "outputs": []
    },
    {
      "cell_type": "code",
      "metadata": {
        "id": "7ebdf6f8"
      },
      "source": [
        "# Display: test data\n",
        "hF, Ax = plot_with_labels(tsne_ts, dt_ts_lab, marker='o',\n",
        "                          legend='TEST', \n",
        "                          title='Dataset: %s'%(ls_datasets[id_]))"
      ],
      "id": "7ebdf6f8",
      "execution_count": null,
      "outputs": []
    },
    {
      "cell_type": "code",
      "metadata": {
        "id": "8500aff6"
      },
      "source": [
        ""
      ],
      "id": "8500aff6",
      "execution_count": null,
      "outputs": []
    }
  ]
}